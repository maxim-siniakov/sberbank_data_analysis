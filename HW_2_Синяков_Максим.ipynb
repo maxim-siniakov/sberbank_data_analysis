{
 "cells": [
  {
   "cell_type": "markdown",
   "metadata": {},
   "source": [
    "### Упражнение 1\n",
    "\n",
    "На одном графике изобразите время затраченное на вычисление с использованием массивов numpy и стандартных списков в питоне.  \n",
    "Для более точных результатов замеряйте время выполнения функции несколько раз и усредняйте. \n",
    "* Используйте функцию `z = 2*x**2 + 4*y`\n",
    "* Перемножение матриц размера n на n"
   ]
  },
  {
   "cell_type": "code",
   "execution_count": 12,
   "metadata": {},
   "outputs": [
    {
     "data": {
      "image/png": "[encoded data removed]",
      "text/plain": [
       "<Figure size 432x288 with 1 Axes>"
      ]
     },
     "metadata": {
      "needs_background": "light"
     },
     "output_type": "display_data"
    }
   ],
   "source": [
    "import numpy as np\n",
    "import time\n",
    "import matplotlib.pyplot as plt # основной модуль\n",
    "%matplotlib inline\n",
    "\n",
    "from IPython import display\n",
    "\n",
    "\n",
    "\n",
    "\n",
    "\n",
    "def python(size_of_vec):\n",
    "    start = time.time()\n",
    "    X = range(size_of_vec)\n",
    "    Y = range(size_of_vec)\n",
    "    Z = [2 * X[i]** 2 + 4 * Y[i] for i in range(len(X))]\n",
    "    return time.time() - start\n",
    "\n",
    "def numpy(size_of_vec):\n",
    "    start = time.time()\n",
    "    X = np.arange(size_of_vec)\n",
    "    Y = np.arange(size_of_vec)\n",
    "    Z = 2 * X ** 2 + 4 * Y\n",
    "    return time.time() - start\n",
    "\n",
    "\n",
    "size_of_vec = np.arange(80)\n",
    "\n",
    "count = 100\n",
    "\n",
    "python_result =[ ]\n",
    "numpy_result =[ ]\n",
    "\n",
    "\n",
    "for i in np.arange(count):\n",
    "    python_speed = []\n",
    "    numpy_speed = []\n",
    "    for j in size_of_vec:\n",
    "        python_speed.append(python(i))\n",
    "        numpy_speed.append(numpy(i))\n",
    "    python_result.append(sum(python_speed) / len(python_speed)) \n",
    "    numpy_result.append(sum(numpy_speed) / len(numpy_speed)) \n",
    "\n",
    "plt.plot(python_result , color = 'r' , label = 'python_speed')\n",
    "plt.plot(numpy_result , color = 'b' , label = 'numpy_speed' )\n",
    "plt.legend()\n",
    "plt.show()\n"
   ]
  },
  {
   "cell_type": "code",
   "execution_count": 1,
   "metadata": {},
   "outputs": [],
   "source": [
    "import numpy as np"
   ]
  },
  {
   "cell_type": "markdown",
   "metadata": {},
   "source": [
    "### Упражнение 2\n",
    "* Создайте массив чисел от 2 до 75. Выведите только нечётные. \n",
    "* Присвойте нечётным числам этого массива значение -1.\n",
    "\n"
   ]
  },
  {
   "cell_type": "code",
   "execution_count": 6,
   "metadata": {},
   "outputs": [
    {
     "name": "stdout",
     "output_type": "stream",
     "text": [
      "[ 3  5  7  9 11 13 15 17 19 21 23 25 27 29 31 33 35 37 39 41 43 45 47 49\n",
      " 51 53 55 57 59 61 63 65 67 69 71 73]\n",
      "[ 2 -1  4 -1  6 -1  8 -1 10 -1 12 -1 14 -1 16 -1 18 -1 20 -1 22 -1 24 -1\n",
      " 26 -1 28 -1 30 -1 32 -1 34 -1 36 -1 38 -1 40 -1 42 -1 44 -1 46 -1 48 -1\n",
      " 50 -1 52 -1 54 -1 56 -1 58 -1 60 -1 62 -1 64 -1 66 -1 68 -1 70 -1 72 -1\n",
      " 74]\n"
     ]
    }
   ],
   "source": [
    "array = np.arange(2, 75)\n",
    "print(array[ array % 2 == 1])\n",
    "array[ array % 2 == 1] = - 1\n",
    "print(array)"
   ]
  },
  {
   "cell_type": "markdown",
   "metadata": {},
   "source": [
    "### Упражнение 3\n",
    "\n",
    "* Найдите в документации функцию, которая удаляет из одного массива элементы, которые есть в другом. \n",
    "* Приведите примеры использования."
   ]
  },
  {
   "cell_type": "markdown",
   "metadata": {},
   "source": [
    "Можно воспользоваться\n",
    "setdiff1d(x, y)\n",
    "\n",
    "Например мы собрали данные в массив и знаем, что среди них могут быть значения, которые явно(по каким либо причинам) могут создавать шум, и мы, фильтруем их с помощью массива."
   ]
  },
  {
   "cell_type": "markdown",
   "metadata": {},
   "source": [
    "### Упражнение 4\n",
    "\n",
    "* Создайте случайную квадратную матрицу случайного размера от 10 до 100. \n",
    "* Найдите максимум и сумму элементов.\n",
    "* Поделите каждый элемент матрицы на максимум.\n",
    "* Отнимите от каждой строки матрицы среднее по строке.\n",
    "* Замените максимальное значение на -1."
   ]
  },
  {
   "cell_type": "code",
   "execution_count": 81,
   "metadata": {},
   "outputs": [
    {
     "name": "stdout",
     "output_type": "stream",
     "text": [
      "[[0.41696817 0.25424038 0.19718119]\n",
      " [0.16565197 0.47247231 0.62395932]\n",
      " [0.96603663 0.10294848 0.10604892]] \n",
      "\n",
      "0.9660366250021767  - максимум\n",
      "\n",
      "3.3055073810446416  - сумма элементов\n",
      "\n",
      "[[0.4316277  0.26317883 0.20411358]\n",
      " [0.17147587 0.48908322 0.64589614]\n",
      " [1.         0.10656789 0.10977733]] - поделил элементы матрицы на максимальный элемент\n",
      "\n",
      "[0.29964004 0.43548508 0.40544841]  - среднее по строке \n",
      "\n",
      "[[ 0.13198767 -0.03646121 -0.09552646]\n",
      " [-0.26400921  0.05359815  0.21041106]\n",
      " [ 0.59455159 -0.29888052 -0.29567108]] Отнял от каждой строки матрицы среднее по строке. \n",
      "\n",
      "[[ 0.13198767 -0.03646121 -0.09552646]\n",
      " [-0.26400921  0.05359815  0.21041106]\n",
      " [-1.         -0.29888052 -0.29567108]] - заменил максимальное значение на -1\n"
     ]
    }
   ],
   "source": [
    "# number = np.random.randint(10,100)\n",
    "matrix = np.random.rand(3, 3)\n",
    "print(matrix, '\\n')\n",
    "print(matrix.max() , ' - максимум\\n')\n",
    "print(matrix.sum() , ' - сумма элементов\\n' )\n",
    "# print(matrix)\n",
    "matrix =  matrix / matrix.max()\n",
    "print(matrix, '- поделил элементы матрицы на максимальный элемент\\n')\n",
    "\n",
    "\n",
    "print(matrix.mean(axis = 1) , ' - среднее по строке \\n')\n",
    "\n",
    "matrix =  matrix - matrix.mean(axis=1, keepdims=True)\n",
    "print(matrix, 'Отнял от каждой строки матрицы среднее по строке. \\n')\n",
    "\n",
    "max_valus_index =  np.unravel_index(matrix.argmax(), matrix.shape) \n",
    "matrix[max_valus_index] = -1\n",
    "print(matrix, '- заменил максимальное значение на -1')\n",
    "\n",
    "\n"
   ]
  },
  {
   "cell_type": "markdown",
   "metadata": {},
   "source": [
    "### Упражнение 5\n",
    "* Напишите функцию, которая берет многомерный вещественный массив с пропущенными значениями (np.nan) и возвращает его копию с заполненными пропусками (заменять средним значением всех элементов массива). Если в массиве одни пропущенные значения, заполните их нулями."
   ]
  },
  {
   "cell_type": "code",
   "execution_count": 117,
   "metadata": {},
   "outputs": [
    {
     "name": "stdout",
     "output_type": "stream",
     "text": [
      "[[1, 2], [nan, 4]]\n",
      "[[1.         2.        ]\n",
      " [2.33333333 4.        ]]\n",
      "[[0. 0.]\n",
      " [0. 0.]]\n"
     ]
    }
   ],
   "source": [
    "import warnings\n",
    "matrix = [ [1 , 2 ] , \n",
    "           [ np.nan , 4]  \n",
    "         ]\n",
    "\n",
    "matrix_nan = [ [np.nan , np.nan ] , \n",
    "           [ np.nan , np.nan]  \n",
    "         ]\n",
    "\n",
    "print(matrix)\n",
    "\n",
    "def transform_array(array):\n",
    "    \n",
    "    with warnings.catch_warnings():\n",
    "      \n",
    "        warnings.filterwarnings('error')\n",
    "        try:\n",
    "            col_mean = np.nanmean(array)\n",
    "            array = np.nan_to_num(array, nan=col_mean)\n",
    "        except RuntimeWarning:\n",
    "            array = np.nan_to_num(array, nan=0.0) \n",
    "    \n",
    "    return array\n",
    "\n",
    "print(transform_array(matrix))\n",
    "print(transform_array(matrix_nan))\n"
   ]
  },
  {
   "cell_type": "markdown",
   "metadata": {},
   "source": [
    "### Упражнение 6\n",
    "* Напишите функцию которая нормализирует заданный numpy-массив, так чтобы его значения лежали в интервале $[0, 1]$."
   ]
  },
  {
   "cell_type": "code",
   "execution_count": 122,
   "metadata": {},
   "outputs": [
    {
     "data": {
      "text/plain": [
       "array([[0.18257419, 0.36514837],\n",
       "       [0.54772256, 0.73029674]])"
      ]
     },
     "execution_count": 122,
     "metadata": {},
     "output_type": "execute_result"
    }
   ],
   "source": [
    "matrix = [ [1 , 2 ] , \n",
    "           [ 3 , 4]  \n",
    "         ]\n",
    "\n",
    "\n",
    "def normalize(array):\n",
    "    norm = np.linalg.norm(array)\n",
    "    return  array/norm\n",
    "    \n",
    "matrix = normalize(matrix)\n",
    "matrix\n"
   ]
  },
  {
   "cell_type": "markdown",
   "metadata": {},
   "source": [
    "### Упражнение 7\n",
    "* Запишите numpy-array в файл.\n",
    "* Считайте numpy-array из файла."
   ]
  },
  {
   "cell_type": "code",
   "execution_count": 138,
   "metadata": {},
   "outputs": [
    {
     "data": {
      "text/plain": [
       "array([[1., 2.],\n",
       "       [3., 4.]])"
      ]
     },
     "execution_count": 138,
     "metadata": {},
     "output_type": "execute_result"
    }
   ],
   "source": [
    "matrix = [ [1 , 2 ] , \n",
    "           [ 3 , 4]  \n",
    "         ]\n",
    "\n",
    "\n",
    "np.savetxt('/Users/max/Downloads/test.txt', matrix, delimiter=',')\n",
    "matrix =  np.loadtxt('/Users/max/Downloads/test.txt',delimiter=',')\n",
    "matrix"
   ]
  },
  {
   "cell_type": "markdown",
   "metadata": {},
   "source": [
    "### Упражнение 8\n",
    "* Создайте случайный массив\n",
    "* Найдите в массиве элемент ближайший к данному"
   ]
  },
  {
   "cell_type": "code",
   "execution_count": 149,
   "metadata": {},
   "outputs": [
    {
     "name": "stdout",
     "output_type": "stream",
     "text": [
      "[699 370 794 410 556]\n"
     ]
    },
    {
     "data": {
      "text/plain": [
       "370"
      ]
     },
     "execution_count": 149,
     "metadata": {},
     "output_type": "execute_result"
    }
   ],
   "source": [
    "number = 5\n",
    "\n",
    "array = np.random.randint(0, 1000, 5)\n",
    "\n",
    "print(array)\n",
    "\n",
    "array[np.abs(array-number).argmin()]"
   ]
  },
  {
   "cell_type": "markdown",
   "metadata": {},
   "source": [
    "### Упражнение 9"
   ]
  },
  {
   "cell_type": "markdown",
   "metadata": {},
   "source": [
    "* Напишите функцию, которая возвращает  $n \\times m$ целочисленную матрицу с заданным значением на границах матрицы и с заданным значением внутри"
   ]
  },
  {
   "cell_type": "code",
   "execution_count": 180,
   "metadata": {},
   "outputs": [
    {
     "data": {
      "text/plain": [
       "array([[1, 1, 1, 1, 1, 1, 1, 1],\n",
       "       [1, 2, 2, 2, 2, 2, 2, 1],\n",
       "       [1, 2, 2, 2, 2, 2, 2, 1],\n",
       "       [1, 2, 2, 2, 2, 2, 2, 1],\n",
       "       [1, 1, 1, 1, 1, 1, 1, 1]])"
      ]
     },
     "execution_count": 180,
     "metadata": {},
     "output_type": "execute_result"
    }
   ],
   "source": [
    "def func ( bound_values, inside_values , n , m ):\n",
    "    \n",
    "    matrix = np.full((n, m), inside_values)\n",
    "    \n",
    "#     matrix[0][0] =  bound_values\n",
    "#     matrix[n-1][m-1] =  bound_values\n",
    "    \n",
    "    matrix[0] = bound_values\n",
    "    matrix[n-1] = bound_values\n",
    "    matrix[:,0:1] = bound_values\n",
    "    matrix[:,m-1:m] = bound_values\n",
    "    \n",
    "    return matrix\n",
    "\n",
    "a = func(1, 2, 5, 8 )\n",
    "\n",
    "a"
   ]
  },
  {
   "cell_type": "markdown",
   "metadata": {},
   "source": [
    "### Упражнение 10\n",
    "* Напишите функцию, которая сортирует строки данной матрицы по значениям заданного столбца в порядке убывания. "
   ]
  },
  {
   "cell_type": "code",
   "execution_count": 196,
   "metadata": {},
   "outputs": [
    {
     "data": {
      "text/plain": [
       "array([[ 6,  1,  3, 14],\n",
       "       [ 3,  4,  2,  8],\n",
       "       [ 3,  4,  2,  7],\n",
       "       [ 1,  2,  3,  6]])"
      ]
     },
     "execution_count": 196,
     "metadata": {},
     "output_type": "execute_result"
    }
   ],
   "source": [
    "matrix = [ [1 , 2 , 3 ,6] , \n",
    "           [ 3 , 4 , 2, 7],\n",
    "           [ 6 , 1 , 3, 14],\n",
    "           [ 3 , 4 , 2, 8]\n",
    "         ]\n",
    "matrix = np.array(matrix)\n",
    "\n",
    "\n",
    "\n",
    "def sort_matrix(matrix, n_columns):\n",
    "    return matrix[np.argsort(matrix[:,n_columns-1])][::-1]\n",
    "\n",
    "\n",
    "matrix = sort_matrix(matrix, 4)\n",
    "\n",
    "matrix\n",
    "    "
   ]
  },
  {
   "cell_type": "markdown",
   "metadata": {},
   "source": [
    "### Упражнение 11\n",
    "\n",
    "* Напишите функцию, которая создает двоичную матрицу шахматной доски с заданным shape\n",
    "\n",
    "Пример 4x4:\n",
    "```python\n",
    "[[0, 1, 0, 1],\n",
    " [1, 0, 1, 0],\n",
    " [0, 1, 0, 1],\n",
    " [1, 0, 1, 0]]\n",
    "```"
   ]
  },
  {
   "cell_type": "markdown",
   "metadata": {},
   "source": [
    "### Упражнение 12\n",
    "* Напишите игру [life](https://en.wikipedia.org/wiki/Conway%27s_Game_of_Life), используя массивы numpy.\n",
    "* Визуализируйте интерактивно ее результаты.\n",
    "\n"
   ]
  }
 ],
 "metadata": {
  "kernelspec": {
   "display_name": "Python 3",
   "language": "python",
   "name": "python3"
  },
  "language_info": {
   "codemirror_mode": {
    "name": "ipython",
    "version": 3
   },
   "file_extension": ".py",
   "mimetype": "text/x-python",
   "name": "python",
   "nbconvert_exporter": "python",
   "pygments_lexer": "ipython3",
   "version": "3.7.9"
  }
 },
 "nbformat": 4,
 "nbformat_minor": 2
}
